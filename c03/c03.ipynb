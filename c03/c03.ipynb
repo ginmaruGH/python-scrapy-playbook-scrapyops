{
 "cells": [
  {
   "attachments": {},
   "cell_type": "markdown",
   "metadata": {},
   "source": [
    "# [Scrapy Beginners Series Part 3: Storing Data With Scrapy][def]\n",
    "\n",
    "[def]: https://scrapeops.io/python-scrapy-playbook/scrapy-beginners-guide-storing-data/\n",
    "\n",
    "# Scrapy 初心者向けシリーズ パート 2：Scrapyでデータを保存する"
   ]
  },
  {
   "cell_type": "markdown",
   "metadata": {},
   "source": []
  }
 ],
 "metadata": {
  "language_info": {
   "name": "python"
  },
  "orig_nbformat": 4
 },
 "nbformat": 4,
 "nbformat_minor": 2
}
