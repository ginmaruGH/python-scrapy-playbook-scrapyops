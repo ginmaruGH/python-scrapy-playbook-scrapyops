{
 "cells": [
  {
   "attachments": {},
   "cell_type": "markdown",
   "metadata": {},
   "source": [
    "# [Scrapy Beginners Series Part 2: Cleaning Dirty Data & Dealing With Edge Cases](https://scrapeops.io/python-scrapy-playbook/scrapy-beginners-guide-cleaning-data/)\n",
    "\n",
    "# Scrapy 初心者向けシリーズ パート 2: ダーティ データのクリーニングとエッジ ケースへの対処"
   ]
  },
  {
   "cell_type": "code",
   "execution_count": null,
   "metadata": {},
   "outputs": [],
   "source": []
  }
 ],
 "metadata": {
  "language_info": {
   "name": "python"
  },
  "orig_nbformat": 4
 },
 "nbformat": 4,
 "nbformat_minor": 2
}
